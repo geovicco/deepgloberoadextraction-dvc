{
 "cells": [
  {
   "cell_type": "markdown",
   "metadata": {},
   "source": [
    "### Stage 1: Data Ingestion\n",
    "\n",
    "- [ ] Define Configuration for connecting with Kaggle Account\n",
    "- [ ] Download Kaggle Dataset using Kaggle Credentials and Public API\n",
    "- [ ] Extract Data"
   ]
  },
  {
   "cell_type": "code",
   "execution_count": 1,
   "metadata": {},
   "outputs": [
    {
     "name": "stdout",
     "output_type": "stream",
     "text": [
      "Current Working Directory: /Users/geovicco/Desktop/Codespace/dvc-basics/DeepGlobeRoadExtraction\n"
     ]
    }
   ],
   "source": [
    "import os\n",
    "os.chdir('../')\n",
    "print(f'Current Working Directory: {os.getcwd()}')"
   ]
  },
  {
   "cell_type": "markdown",
   "metadata": {},
   "source": [
    "#### Configuration"
   ]
  },
  {
   "cell_type": "code",
   "execution_count": 3,
   "metadata": {},
   "outputs": [],
   "source": [
    "from dataclasses import dataclass\n",
    "from pathlib import Path \n",
    "\n",
    "@dataclass(frozen=True)\n",
    "class DataIngestionConfig:\n",
    "    # Kaggle Credentials saved in secrets.yaml\n",
    "    username: str\n",
    "    token: str\n",
    "    # Config.yaml\n",
    "    root_dir: Path\n",
    "    kaggle_dataset_id: str\n",
    "    download_dir: Path\n",
    "    \n",
    "from DeepGlobeRoadExtraction import CONFIG_FILE_PATH, SECRETS_FILE_PATH\n",
    "from DeepGlobeRoadExtraction.utils.common import read_yaml, create_directories\n",
    "\n",
    "class ConfigurationManager:\n",
    "    def __init__(self, config_filepath=CONFIG_FILE_PATH, secrets_filepath=SECRETS_FILE_PATH) -> None:\n",
    "        self.config = read_yaml(config_filepath)\n",
    "        self.secrets = read_yaml(secrets_filepath)\n",
    "        create_directories([self.config.data_ingestion.root_dir])\n",
    "    \n",
    "    def get_data_ingestion_config(self) -> DataIngestionConfig:\n",
    "        config = self.config.data_ingestion\n",
    "        secrets = self.secrets.kaggle\n",
    "        cfg = DataIngestionConfig(\n",
    "            username=secrets.username,\n",
    "            token=secrets.token,\n",
    "            root_dir=Path(config.root_dir),\n",
    "            kaggle_dataset_id=config.kaggle_dataset_id,\n",
    "            download_dir=Path(config.download_dir)\n",
    "        )\n",
    "        return cfg"
   ]
  },
  {
   "cell_type": "code",
   "execution_count": 4,
   "metadata": {},
   "outputs": [
    {
     "name": "stdout",
     "output_type": "stream",
     "text": [
      "[2024-06-03 00:02:47,348: INFO: common: yaml file: config.yaml loaded successfully]\n",
      "[2024-06-03 00:02:47,351: INFO: common: yaml file: secrets.yaml loaded successfully]\n",
      "[2024-06-03 00:02:47,351: INFO: common: created directory at: data]\n"
     ]
    },
    {
     "data": {
      "text/plain": [
       "DataIngestionConfig(username='adityasharma47', token='077f426e4ed99cebc79ad82781eab4b8', root_dir=PosixPath('data'), kaggle_dataset_id='balraj98/deepglobe-road-extraction-dataset', download_dir=PosixPath('data/deepglobe-road-extraction-dataset'))"
      ]
     },
     "execution_count": 4,
     "metadata": {},
     "output_type": "execute_result"
    }
   ],
   "source": [
    "# Check Configuration\n",
    "config = ConfigurationManager().get_data_ingestion_config()\n",
    "config"
   ]
  },
  {
   "cell_type": "markdown",
   "metadata": {},
   "source": [
    "#### Components"
   ]
  },
  {
   "cell_type": "code",
   "execution_count": 25,
   "metadata": {},
   "outputs": [],
   "source": [
    "import os\n",
    "import subprocess\n",
    "import json\n",
    "from DeepGlobeRoadExtraction import logger\n",
    "from kaggle.api.kaggle_api_extended import KaggleApi\n",
    "\n",
    "class DataIngestionComponent:\n",
    "    def __init__(self, config: DataIngestionConfig) -> None:\n",
    "        self.config = config\n",
    "    \n",
    "    # Initialise Kaggle API\n",
    "    def kaggle_init(self):\n",
    "        logger.info(f'---------- Initialising Kaggle Account ----------')\n",
    "        KAGGLE_CONFIG_DIR = os.path.join(os.path.expandvars('$HOME'), '.kaggle')\n",
    "        KAGGLE_CONFIG_FILE = os.path.join(KAGGLE_CONFIG_DIR, 'kaggle.json')\n",
    "        \n",
    "        # Check if the kaggle.json file already exists and is not empty\n",
    "        if os.path.exists(KAGGLE_CONFIG_FILE) and os.path.getsize(KAGGLE_CONFIG_FILE) > 0:\n",
    "            logger.warning(f'---> Kaggle Account Credentials Found! {KAGGLE_CONFIG_FILE}. Remove this file and re-initialise if API token is invalid or has expired.')\n",
    "            return\n",
    "\n",
    "        os.makedirs(KAGGLE_CONFIG_DIR, exist_ok = True)\n",
    "        try:\n",
    "            username = self.config.username\n",
    "            api_key = self.config.token\n",
    "            api_dict = {\"username\":username, \"key\":api_key}\n",
    "            with open(KAGGLE_CONFIG_FILE, \"w\", encoding='utf-8') as f:\n",
    "                json.dump(api_dict, f)\n",
    "            cmd = f\"chmod 600 {KAGGLE_CONFIG_FILE}\"\n",
    "            output = subprocess.check_output(cmd.split(\" \"))\n",
    "            output = output.decode(encoding='UTF-8')\n",
    "        except Exception as e:\n",
    "            logger.error(f'Failed to Initialise Kaggle Account!')\n",
    "            raise e\n",
    "        \n",
    "    # Download Kaggle Dataset\n",
    "    def download_dataset(self) -> None:\n",
    "        logger.info(f'---------- Downloading Kaggle Dataset: {self.config.kaggle_dataset_id} ----------')\n",
    "        try:\n",
    "            api = KaggleApi()\n",
    "            api.authenticate()\n",
    "            api.dataset_download_files(\n",
    "                dataset=self.config.kaggle_dataset_id,\n",
    "                path=self.config.download_dir, \n",
    "                unzip=True,\n",
    "                force=False\n",
    "            )\n",
    "            logger.info(f'---> Kaggle dataset saved to {self.config.download_dir}')\n",
    "        except  Exception as e:\n",
    "            logger.error('Kaggle dataset download failed!')\n",
    "            raise e"
   ]
  },
  {
   "cell_type": "markdown",
   "metadata": {},
   "source": [
    "#### Pipeline"
   ]
  },
  {
   "cell_type": "code",
   "execution_count": 26,
   "metadata": {},
   "outputs": [
    {
     "name": "stdout",
     "output_type": "stream",
     "text": [
      "[2024-06-03 00:20:38,262: INFO: common: yaml file: config.yaml loaded successfully]\n",
      "[2024-06-03 00:20:38,264: INFO: common: yaml file: secrets.yaml loaded successfully]\n",
      "[2024-06-03 00:20:38,264: INFO: common: created directory at: data]\n"
     ]
    }
   ],
   "source": [
    "pipeline = DataIngestionComponent(ConfigurationManager().get_data_ingestion_config())"
   ]
  },
  {
   "cell_type": "code",
   "execution_count": 27,
   "metadata": {},
   "outputs": [
    {
     "name": "stdout",
     "output_type": "stream",
     "text": [
      "[2024-06-03 00:20:42,758: INFO: 968594923: ---------- Initialising Kaggle Account ----------]\n",
      "[2024-06-03 00:20:42,759: WARNING: 968594923: ---> Kaggle Account Credentials Found! /Users/geovicco/.kaggle/kaggle.json. Remove this file and re-initialise if API token is invalid or has expired.]\n",
      "[2024-06-03 00:20:42,760: INFO: 968594923: ---------- Downloading Kaggle Dataset: balraj98/deepglobe-road-extraction-dataset ----------]\n",
      "Dataset URL: https://www.kaggle.com/datasets/balraj98/deepglobe-road-extraction-dataset\n",
      "[2024-06-03 00:26:44,810: INFO: 968594923: ---> Kaggle dataset saved to data/deepglobe-road-extraction-dataset]\n"
     ]
    }
   ],
   "source": [
    "pipeline.kaggle_init()\n",
    "pipeline.download_dataset()"
   ]
  },
  {
   "cell_type": "markdown",
   "metadata": {},
   "source": []
  }
 ],
 "metadata": {
  "kernelspec": {
   "display_name": "roads",
   "language": "python",
   "name": "python3"
  },
  "language_info": {
   "codemirror_mode": {
    "name": "ipython",
    "version": 3
   },
   "file_extension": ".py",
   "mimetype": "text/x-python",
   "name": "python",
   "nbconvert_exporter": "python",
   "pygments_lexer": "ipython3",
   "version": "3.10.13"
  }
 },
 "nbformat": 4,
 "nbformat_minor": 2
}
